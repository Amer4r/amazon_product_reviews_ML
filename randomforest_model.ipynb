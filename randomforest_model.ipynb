{
 "cells": [
  {
   "cell_type": "markdown",
   "metadata": {},
   "source": [
    "# Step 1: Pull the data from the API"
   ]
  },
  {
   "cell_type": "code",
   "execution_count": 509,
   "metadata": {},
   "outputs": [],
   "source": [
    "# import the libraries\n",
    "import pandas as pd\n",
    "import requests\n",
    "import json\n",
    "from config import headers\n",
    "import numpy as np\n",
    "import matplotlib as plt\n",
    "import seaborn as sns"
   ]
  },
  {
   "cell_type": "markdown",
   "metadata": {},
   "source": [
    "# Training ML model "
   ]
  },
  {
   "cell_type": "code",
   "execution_count": 510,
   "metadata": {},
   "outputs": [],
   "source": [
    "# Import our dependencies\n",
    "from sklearn.model_selection import train_test_split\n",
    "import pandas as pd\n",
    "from sklearn.feature_extraction.text import CountVectorizer\n",
    "from sklearn.metrics import accuracy_score, confusion_matrix, classification_report\n",
    "from collections import Counter"
   ]
  },
  {
   "cell_type": "code",
   "execution_count": 511,
   "metadata": {},
   "outputs": [
    {
     "data": {
      "text/html": [
       "<div>\n",
       "<style scoped>\n",
       "    .dataframe tbody tr th:only-of-type {\n",
       "        vertical-align: middle;\n",
       "    }\n",
       "\n",
       "    .dataframe tbody tr th {\n",
       "        vertical-align: top;\n",
       "    }\n",
       "\n",
       "    .dataframe thead th {\n",
       "        text-align: right;\n",
       "    }\n",
       "</style>\n",
       "<table border=\"1\" class=\"dataframe\">\n",
       "  <thead>\n",
       "    <tr style=\"text-align: right;\">\n",
       "      <th></th>\n",
       "      <th>Unnamed: 0</th>\n",
       "      <th>level_0</th>\n",
       "      <th>index</th>\n",
       "      <th>review_title</th>\n",
       "      <th>review_comment</th>\n",
       "      <th>review_star_rating</th>\n",
       "      <th>asin</th>\n",
       "      <th>comments_no_stopwords</th>\n",
       "      <th>neg</th>\n",
       "      <th>neu</th>\n",
       "      <th>pos</th>\n",
       "      <th>compound</th>\n",
       "      <th>sentiment</th>\n",
       "    </tr>\n",
       "  </thead>\n",
       "  <tbody>\n",
       "    <tr>\n",
       "      <th>0</th>\n",
       "      <td>0</td>\n",
       "      <td>0</td>\n",
       "      <td>0</td>\n",
       "      <td>Charges my bike computer very well.</td>\n",
       "      <td>This pack of usb-c to usb-c cables is perfectl...</td>\n",
       "      <td>5</td>\n",
       "      <td>B0D49CWPH2</td>\n",
       "      <td>This pack usb-c usb-c cables perfectly service...</td>\n",
       "      <td>0.034</td>\n",
       "      <td>0.633</td>\n",
       "      <td>0.333</td>\n",
       "      <td>0.9645</td>\n",
       "      <td>1</td>\n",
       "    </tr>\n",
       "    <tr>\n",
       "      <th>1</th>\n",
       "      <td>1</td>\n",
       "      <td>1</td>\n",
       "      <td>1</td>\n",
       "      <td>Dependable, high-performance, longevity</td>\n",
       "      <td>The USB C to USB C Cable 5-Pack (6FT) is a rel...</td>\n",
       "      <td>5</td>\n",
       "      <td>B0D49CWPH2</td>\n",
       "      <td>The USB C USB C Cable 5-Pack (6FT) reliable ve...</td>\n",
       "      <td>0.000</td>\n",
       "      <td>0.781</td>\n",
       "      <td>0.219</td>\n",
       "      <td>0.9337</td>\n",
       "      <td>1</td>\n",
       "    </tr>\n",
       "    <tr>\n",
       "      <th>2</th>\n",
       "      <td>2</td>\n",
       "      <td>2</td>\n",
       "      <td>2</td>\n",
       "      <td>Excellent quality!</td>\n",
       "      <td>I got the cables yesterday and immediately put...</td>\n",
       "      <td>5</td>\n",
       "      <td>B0D49CWPH2</td>\n",
       "      <td>I got cables yesterday immediately put work. S...</td>\n",
       "      <td>0.000</td>\n",
       "      <td>0.722</td>\n",
       "      <td>0.278</td>\n",
       "      <td>0.9562</td>\n",
       "      <td>1</td>\n",
       "    </tr>\n",
       "    <tr>\n",
       "      <th>3</th>\n",
       "      <td>3</td>\n",
       "      <td>3</td>\n",
       "      <td>3</td>\n",
       "      <td>CHARGES SO FAST</td>\n",
       "      <td>So cheap and charges so fast. I got these to c...</td>\n",
       "      <td>5</td>\n",
       "      <td>B0D49CWPH2</td>\n",
       "      <td>So cheap charges fast. I got charge laptop, ip...</td>\n",
       "      <td>0.041</td>\n",
       "      <td>0.763</td>\n",
       "      <td>0.196</td>\n",
       "      <td>0.8363</td>\n",
       "      <td>1</td>\n",
       "    </tr>\n",
       "    <tr>\n",
       "      <th>4</th>\n",
       "      <td>4</td>\n",
       "      <td>4</td>\n",
       "      <td>4</td>\n",
       "      <td>Great Quality Charging Cables!!</td>\n",
       "      <td>Extremely pleased with the high quality of the...</td>\n",
       "      <td>5</td>\n",
       "      <td>B0D49CWPH2</td>\n",
       "      <td>Extremely pleased high quality charging cables...</td>\n",
       "      <td>0.000</td>\n",
       "      <td>0.659</td>\n",
       "      <td>0.341</td>\n",
       "      <td>0.9482</td>\n",
       "      <td>1</td>\n",
       "    </tr>\n",
       "  </tbody>\n",
       "</table>\n",
       "</div>"
      ],
      "text/plain": [
       "   Unnamed: 0  level_0  index                             review_title  \\\n",
       "0           0        0      0      Charges my bike computer very well.   \n",
       "1           1        1      1  Dependable, high-performance, longevity   \n",
       "2           2        2      2                       Excellent quality!   \n",
       "3           3        3      3                          CHARGES SO FAST   \n",
       "4           4        4      4          Great Quality Charging Cables!!   \n",
       "\n",
       "                                      review_comment  review_star_rating  \\\n",
       "0  This pack of usb-c to usb-c cables is perfectl...                   5   \n",
       "1  The USB C to USB C Cable 5-Pack (6FT) is a rel...                   5   \n",
       "2  I got the cables yesterday and immediately put...                   5   \n",
       "3  So cheap and charges so fast. I got these to c...                   5   \n",
       "4  Extremely pleased with the high quality of the...                   5   \n",
       "\n",
       "         asin                              comments_no_stopwords    neg  \\\n",
       "0  B0D49CWPH2  This pack usb-c usb-c cables perfectly service...  0.034   \n",
       "1  B0D49CWPH2  The USB C USB C Cable 5-Pack (6FT) reliable ve...  0.000   \n",
       "2  B0D49CWPH2  I got cables yesterday immediately put work. S...  0.000   \n",
       "3  B0D49CWPH2  So cheap charges fast. I got charge laptop, ip...  0.041   \n",
       "4  B0D49CWPH2  Extremely pleased high quality charging cables...  0.000   \n",
       "\n",
       "     neu    pos  compound  sentiment  \n",
       "0  0.633  0.333    0.9645          1  \n",
       "1  0.781  0.219    0.9337          1  \n",
       "2  0.722  0.278    0.9562          1  \n",
       "3  0.763  0.196    0.8363          1  \n",
       "4  0.659  0.341    0.9482          1  "
      ]
     },
     "execution_count": 511,
     "metadata": {},
     "output_type": "execute_result"
    }
   ],
   "source": [
    "# Import the csv file\n",
    "merged_df = pd.read_csv('Resources/nlp_model_data.csv')\n",
    "merged_df.head()"
   ]
  },
  {
   "cell_type": "code",
   "execution_count": 512,
   "metadata": {},
   "outputs": [
    {
     "data": {
      "text/plain": [
       "Counter({1: 2631, 0: 248})"
      ]
     },
     "execution_count": 512,
     "metadata": {},
     "output_type": "execute_result"
    }
   ],
   "source": [
    "# Separate the data into labels and features\n",
    "# Separate the X variable, the features\n",
    "X = merged_df['comments_no_stopwords']\n",
    "# Separate the y variable, the labels\n",
    "y = merged_df['sentiment']\n",
    "Counter(y)"
   ]
  },
  {
   "cell_type": "code",
   "execution_count": 513,
   "metadata": {},
   "outputs": [
    {
     "data": {
      "text/plain": [
       "(2879, 8445)"
      ]
     },
     "execution_count": 513,
     "metadata": {},
     "output_type": "execute_result"
    }
   ],
   "source": [
    "vectorizer = CountVectorizer(analyzer='word', max_features=8445)\n",
    "X_vector= vectorizer.fit_transform(X).toarray()\n",
    "X_vector.shape"
   ]
  },
  {
   "cell_type": "code",
   "execution_count": 514,
   "metadata": {},
   "outputs": [
    {
     "data": {
      "text/plain": [
       "(2879, 8445)"
      ]
     },
     "execution_count": 514,
     "metadata": {},
     "output_type": "execute_result"
    }
   ],
   "source": [
    "from sklearn.feature_extraction.text import TfidfTransformer\n",
    "tfidf_transformer = TfidfTransformer()\n",
    "X_tfidf = tfidf_transformer.fit_transform(X_vector)\n",
    "X_tfidf.shape"
   ]
  },
  {
   "cell_type": "code",
   "execution_count": 515,
   "metadata": {},
   "outputs": [],
   "source": [
    "# Split the data using train_test_split\n",
    "# X_train, X_test, y_train, y_test = train_test_split(X_tfidf, y, test_size=0.25, random_state=0)\n",
    "\n",
    "# custom split data for training and testing\n",
    "N = 220\n",
    "pos_train = y[y == 1].sample(N, random_state=1)\n",
    "neg_train = y[y == 0].sample(N, random_state=1)\n",
    "\n",
    "# sample positive and negative for validation/testing\n",
    "y_test_pos = y[(y==1) & ~(y.index.isin(pos_train.index))].sample(248 - N, random_state=100)\n",
    "y_test_neg = y[(y==0) & ~(y.index.isin(neg_train.index))].sample(248 - N, random_state=100)\n",
    "y_test = pd.concat([y_test_pos, y_test_neg])\n",
    "\n",
    "X_test = X_tfidf[y.index.isin(y_test.index)]\n",
    "\n",
    "# use reverse index from test for training\n",
    "X_train = X_tfidf[~y.index.isin(y_test.index)]\n",
    "y_train = y[~y.index.isin(y_test.index)]\n"
   ]
  },
  {
   "cell_type": "code",
   "execution_count": 516,
   "metadata": {},
   "outputs": [
    {
     "name": "stdout",
     "output_type": "stream",
     "text": [
      "Accuracy: 66.07%\n"
     ]
    }
   ],
   "source": [
    "# Instantiate the Logistic Regression model\n",
    "from sklearn.ensemble import RandomForestClassifier\n",
    "\n",
    "model = RandomForestClassifier() \n",
    "\n",
    "# Fit the model using training data\n",
    "logistecModel = model.fit(X_train, y_train)\n",
    "\n",
    "# Make a prediction using the testing data\n",
    "y_predicted = logistecModel.predict(X_test)\n",
    "\n",
    "# Calculate the accuracy\n",
    "print('Accuracy: %.2f%%' % (accuracy_score(y_predicted, y_test)*100))"
   ]
  },
  {
   "cell_type": "code",
   "execution_count": 517,
   "metadata": {},
   "outputs": [
    {
     "name": "stdout",
     "output_type": "stream",
     "text": [
      "[[11 17]\n",
      " [ 2 26]]\n",
      "              precision    recall  f1-score   support\n",
      "\n",
      "           0       0.85      0.39      0.54        28\n",
      "           1       0.60      0.93      0.73        28\n",
      "\n",
      "    accuracy                           0.66        56\n",
      "   macro avg       0.73      0.66      0.63        56\n",
      "weighted avg       0.73      0.66      0.63        56\n",
      "\n"
     ]
    }
   ],
   "source": [
    "# Generate a confusion matrix for the model\n",
    "cm = confusion_matrix(y_test, y_predicted)\n",
    "\n",
    "print(cm)\n",
    "\n",
    "# Print the classification report for the model\n",
    "print(classification_report(y_test, y_predicted))"
   ]
  }
 ],
 "metadata": {
  "kernelspec": {
   "display_name": "base",
   "language": "python",
   "name": "python3"
  },
  "language_info": {
   "codemirror_mode": {
    "name": "ipython",
    "version": 3
   },
   "file_extension": ".py",
   "mimetype": "text/x-python",
   "name": "python",
   "nbconvert_exporter": "python",
   "pygments_lexer": "ipython3",
   "version": "3.11.5"
  }
 },
 "nbformat": 4,
 "nbformat_minor": 2
}
