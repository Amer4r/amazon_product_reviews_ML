{
 "cells": [
  {
   "cell_type": "markdown",
   "metadata": {},
   "source": [
    "### Dataset\n",
    "The dataset is live and was taken from Rapidapi and uploaded to AWS S3 bucket using Lambda to be udated daily.\n",
    "URL to dataset source: https://rapidapi.com/letscrape-6bRBa3QguO5/api/real-time-amazon-data/playground/apiendpoint_17991940-c656-454f-a9ee-0277b0ada11d"
   ]
  },
  {
   "cell_type": "code",
   "execution_count": 141,
   "metadata": {},
   "outputs": [
    {
     "data": {
      "text/html": [
       "<div>\n",
       "<style scoped>\n",
       "    .dataframe tbody tr th:only-of-type {\n",
       "        vertical-align: middle;\n",
       "    }\n",
       "\n",
       "    .dataframe tbody tr th {\n",
       "        vertical-align: top;\n",
       "    }\n",
       "\n",
       "    .dataframe thead th {\n",
       "        text-align: right;\n",
       "    }\n",
       "</style>\n",
       "<table border=\"1\" class=\"dataframe\">\n",
       "  <thead>\n",
       "    <tr style=\"text-align: right;\">\n",
       "      <th></th>\n",
       "      <th>asin</th>\n",
       "      <th>product_title</th>\n",
       "      <th>product_price</th>\n",
       "      <th>product_original_price</th>\n",
       "      <th>currency</th>\n",
       "      <th>product_star_rating</th>\n",
       "      <th>product_num_ratings</th>\n",
       "      <th>product_url</th>\n",
       "      <th>product_photo</th>\n",
       "      <th>product_num_offers</th>\n",
       "      <th>product_minimum_offer_price</th>\n",
       "      <th>is_best_seller</th>\n",
       "      <th>is_amazon_choice</th>\n",
       "      <th>is_prime</th>\n",
       "      <th>climate_pledge_friendly</th>\n",
       "      <th>sales_volume</th>\n",
       "      <th>delivery</th>\n",
       "      <th>coupon_text</th>\n",
       "      <th>unit_price</th>\n",
       "      <th>unit_count</th>\n",
       "    </tr>\n",
       "  </thead>\n",
       "  <tbody>\n",
       "    <tr>\n",
       "      <th>0</th>\n",
       "      <td>B0D49CWPH2</td>\n",
       "      <td>USB C to USB C Cable, (5Pack 6FT), New Nylon U...</td>\n",
       "      <td>$29.66</td>\n",
       "      <td>NaN</td>\n",
       "      <td>USD</td>\n",
       "      <td>5.0</td>\n",
       "      <td>91</td>\n",
       "      <td>https://www.amazon.com/dp/B0D49CWPH2</td>\n",
       "      <td>https://m.media-amazon.com/images/I/818ElRqqaJ...</td>\n",
       "      <td>1</td>\n",
       "      <td>$29.66</td>\n",
       "      <td>False</td>\n",
       "      <td>False</td>\n",
       "      <td>True</td>\n",
       "      <td>False</td>\n",
       "      <td>10K+ bought in past month</td>\n",
       "      <td>FREE delivery Mon, Jun 10 on $35 of items ship...</td>\n",
       "      <td>Save 50% with coupon</td>\n",
       "      <td>NaN</td>\n",
       "      <td>NaN</td>\n",
       "    </tr>\n",
       "    <tr>\n",
       "      <th>1</th>\n",
       "      <td>B0D2X7Y7VF</td>\n",
       "      <td>USB C to Lightning Cable [Apple MFi Certified]...</td>\n",
       "      <td>$7.49</td>\n",
       "      <td>$24.98</td>\n",
       "      <td>USD</td>\n",
       "      <td>4.4</td>\n",
       "      <td>41</td>\n",
       "      <td>https://www.amazon.com/dp/B0D2X7Y7VF</td>\n",
       "      <td>https://m.media-amazon.com/images/I/61yvV52CIQ...</td>\n",
       "      <td>1</td>\n",
       "      <td>$7.49</td>\n",
       "      <td>False</td>\n",
       "      <td>False</td>\n",
       "      <td>True</td>\n",
       "      <td>False</td>\n",
       "      <td>3K+ bought in past month</td>\n",
       "      <td>FREE delivery Mon, Jun 10 on $35 of items ship...</td>\n",
       "      <td>Save 20% with coupon</td>\n",
       "      <td>NaN</td>\n",
       "      <td>NaN</td>\n",
       "    </tr>\n",
       "    <tr>\n",
       "      <th>2</th>\n",
       "      <td>B0D12T4WZT</td>\n",
       "      <td>USB C Charger for iPhone 14 13 12 11 Charger [...</td>\n",
       "      <td>$9.99</td>\n",
       "      <td>$15.99</td>\n",
       "      <td>USD</td>\n",
       "      <td>5.0</td>\n",
       "      <td>51</td>\n",
       "      <td>https://www.amazon.com/dp/B0D12T4WZT</td>\n",
       "      <td>https://m.media-amazon.com/images/I/61nKMuhlx7...</td>\n",
       "      <td>1</td>\n",
       "      <td>$9.99</td>\n",
       "      <td>False</td>\n",
       "      <td>False</td>\n",
       "      <td>True</td>\n",
       "      <td>False</td>\n",
       "      <td>3K+ bought in past month</td>\n",
       "      <td>FREE delivery Mon, Jun 10 on $35 of items ship...</td>\n",
       "      <td>Save 30% with coupon</td>\n",
       "      <td>NaN</td>\n",
       "      <td>NaN</td>\n",
       "    </tr>\n",
       "    <tr>\n",
       "      <th>3</th>\n",
       "      <td>B0CZPHPJLN</td>\n",
       "      <td>Beats Solo 4 - Wireless Bluetooth On-Ear Headp...</td>\n",
       "      <td>$149.95</td>\n",
       "      <td>$199.95</td>\n",
       "      <td>USD</td>\n",
       "      <td>4.1</td>\n",
       "      <td>92</td>\n",
       "      <td>https://www.amazon.com/dp/B0CZPHPJLN</td>\n",
       "      <td>https://m.media-amazon.com/images/I/510fGxoTsT...</td>\n",
       "      <td>1</td>\n",
       "      <td>$149.95</td>\n",
       "      <td>False</td>\n",
       "      <td>False</td>\n",
       "      <td>True</td>\n",
       "      <td>False</td>\n",
       "      <td>3K+ bought in past month</td>\n",
       "      <td>FREE delivery Mon, Jun 10 Or fastest delivery ...</td>\n",
       "      <td>NaN</td>\n",
       "      <td>NaN</td>\n",
       "      <td>NaN</td>\n",
       "    </tr>\n",
       "    <tr>\n",
       "      <th>4</th>\n",
       "      <td>B0C58MS6HF</td>\n",
       "      <td>Anker Magnetic Power Bank 10,000mAh, Wireless ...</td>\n",
       "      <td>$39.99</td>\n",
       "      <td>NaN</td>\n",
       "      <td>USD</td>\n",
       "      <td>4.3</td>\n",
       "      <td>5689</td>\n",
       "      <td>https://www.amazon.com/dp/B0C58MS6HF</td>\n",
       "      <td>https://m.media-amazon.com/images/I/61RB59T7AF...</td>\n",
       "      <td>1</td>\n",
       "      <td>$39.99</td>\n",
       "      <td>False</td>\n",
       "      <td>False</td>\n",
       "      <td>True</td>\n",
       "      <td>True</td>\n",
       "      <td>10K+ bought in past month</td>\n",
       "      <td>FREE delivery Mon, Jun 10 Or fastest delivery ...</td>\n",
       "      <td>Save 10% with coupon</td>\n",
       "      <td>NaN</td>\n",
       "      <td>NaN</td>\n",
       "    </tr>\n",
       "  </tbody>\n",
       "</table>\n",
       "</div>"
      ],
      "text/plain": [
       "         asin                                      product_title  \\\n",
       "0  B0D49CWPH2  USB C to USB C Cable, (5Pack 6FT), New Nylon U...   \n",
       "1  B0D2X7Y7VF  USB C to Lightning Cable [Apple MFi Certified]...   \n",
       "2  B0D12T4WZT  USB C Charger for iPhone 14 13 12 11 Charger [...   \n",
       "3  B0CZPHPJLN  Beats Solo 4 - Wireless Bluetooth On-Ear Headp...   \n",
       "4  B0C58MS6HF  Anker Magnetic Power Bank 10,000mAh, Wireless ...   \n",
       "\n",
       "  product_price product_original_price currency  product_star_rating  \\\n",
       "0        $29.66                    NaN      USD                  5.0   \n",
       "1         $7.49                 $24.98      USD                  4.4   \n",
       "2         $9.99                 $15.99      USD                  5.0   \n",
       "3       $149.95                $199.95      USD                  4.1   \n",
       "4        $39.99                    NaN      USD                  4.3   \n",
       "\n",
       "   product_num_ratings                           product_url  \\\n",
       "0                   91  https://www.amazon.com/dp/B0D49CWPH2   \n",
       "1                   41  https://www.amazon.com/dp/B0D2X7Y7VF   \n",
       "2                   51  https://www.amazon.com/dp/B0D12T4WZT   \n",
       "3                   92  https://www.amazon.com/dp/B0CZPHPJLN   \n",
       "4                 5689  https://www.amazon.com/dp/B0C58MS6HF   \n",
       "\n",
       "                                       product_photo  product_num_offers  \\\n",
       "0  https://m.media-amazon.com/images/I/818ElRqqaJ...                   1   \n",
       "1  https://m.media-amazon.com/images/I/61yvV52CIQ...                   1   \n",
       "2  https://m.media-amazon.com/images/I/61nKMuhlx7...                   1   \n",
       "3  https://m.media-amazon.com/images/I/510fGxoTsT...                   1   \n",
       "4  https://m.media-amazon.com/images/I/61RB59T7AF...                   1   \n",
       "\n",
       "  product_minimum_offer_price  is_best_seller  is_amazon_choice  is_prime  \\\n",
       "0                      $29.66           False             False      True   \n",
       "1                       $7.49           False             False      True   \n",
       "2                       $9.99           False             False      True   \n",
       "3                     $149.95           False             False      True   \n",
       "4                      $39.99           False             False      True   \n",
       "\n",
       "   climate_pledge_friendly               sales_volume  \\\n",
       "0                    False  10K+ bought in past month   \n",
       "1                    False   3K+ bought in past month   \n",
       "2                    False   3K+ bought in past month   \n",
       "3                    False   3K+ bought in past month   \n",
       "4                     True  10K+ bought in past month   \n",
       "\n",
       "                                            delivery           coupon_text  \\\n",
       "0  FREE delivery Mon, Jun 10 on $35 of items ship...  Save 50% with coupon   \n",
       "1  FREE delivery Mon, Jun 10 on $35 of items ship...  Save 20% with coupon   \n",
       "2  FREE delivery Mon, Jun 10 on $35 of items ship...  Save 30% with coupon   \n",
       "3  FREE delivery Mon, Jun 10 Or fastest delivery ...                   NaN   \n",
       "4  FREE delivery Mon, Jun 10 Or fastest delivery ...  Save 10% with coupon   \n",
       "\n",
       "  unit_price  unit_count  \n",
       "0        NaN         NaN  \n",
       "1        NaN         NaN  \n",
       "2        NaN         NaN  \n",
       "3        NaN         NaN  \n",
       "4        NaN         NaN  "
      ]
     },
     "execution_count": 141,
     "metadata": {},
     "output_type": "execute_result"
    }
   ],
   "source": [
    "# Import libraries\n",
    "from datetime import datetime \n",
    "import pandas as pd \n",
    "import numpy as np\n",
    "\n",
    "# Store the file url from S3 bucket to a file_name variale\n",
    "file_name = f\"s3://lambda-amer/electronics_data_{datetime.now().strftime('%Y-%m-%d')}.csv\"\n",
    "\n",
    "# Read the csv in pandas\n",
    "df = pd.read_csv(file_name)\n",
    "# Print the dataframe\n",
    "df.head()"
   ]
  },
  {
   "cell_type": "code",
   "execution_count": 110,
   "metadata": {},
   "outputs": [
    {
     "data": {
      "text/plain": [
       "(349, 20)"
      ]
     },
     "execution_count": 110,
     "metadata": {},
     "output_type": "execute_result"
    }
   ],
   "source": [
    "# Define the shape of the dataset\n",
    "df.shape"
   ]
  },
  {
   "cell_type": "markdown",
   "metadata": {},
   "source": [
    "### Data Description\n",
    "The data has 349 rows and 20 columns containing the information about the electronics category listed on Amazon"
   ]
  },
  {
   "cell_type": "markdown",
   "metadata": {},
   "source": [
    "### Data Cleaning"
   ]
  },
  {
   "cell_type": "code",
   "execution_count": 111,
   "metadata": {},
   "outputs": [
    {
     "data": {
      "text/plain": [
       "Index(['asin', 'product_title', 'product_price', 'product_original_price',\n",
       "       'currency', 'product_star_rating', 'product_num_ratings', 'product_url',\n",
       "       'product_photo', 'product_num_offers', 'product_minimum_offer_price',\n",
       "       'is_best_seller', 'is_amazon_choice', 'is_prime',\n",
       "       'climate_pledge_friendly', 'sales_volume', 'delivery', 'coupon_text',\n",
       "       'unit_price', 'unit_count'],\n",
       "      dtype='object')"
      ]
     },
     "execution_count": 111,
     "metadata": {},
     "output_type": "execute_result"
    }
   ],
   "source": [
    "# List all the columns in df\n",
    "df.columns"
   ]
  },
  {
   "cell_type": "code",
   "execution_count": 112,
   "metadata": {},
   "outputs": [
    {
     "data": {
      "text/plain": [
       "asin                             0\n",
       "product_title                    0\n",
       "product_price                    6\n",
       "product_original_price         211\n",
       "currency                         6\n",
       "product_star_rating             15\n",
       "product_num_ratings              0\n",
       "product_url                      0\n",
       "product_photo                    0\n",
       "product_num_offers               0\n",
       "product_minimum_offer_price      6\n",
       "is_best_seller                   0\n",
       "is_amazon_choice                 0\n",
       "is_prime                         0\n",
       "climate_pledge_friendly          0\n",
       "sales_volume                    84\n",
       "delivery                         8\n",
       "coupon_text                    274\n",
       "unit_price                     306\n",
       "unit_count                     306\n",
       "dtype: int64"
      ]
     },
     "execution_count": 112,
     "metadata": {},
     "output_type": "execute_result"
    }
   ],
   "source": [
    "# Count the number of null values\n",
    "df.isnull().sum()"
   ]
  },
  {
   "cell_type": "markdown",
   "metadata": {},
   "source": [
    "Looking at the number of null values above and the unnecessarity of some columns, these columns will be dropped:\n",
    "1. product_original_price\n",
    "2. product_url \n",
    "3. product_photo\n",
    "4. coupon_text\n",
    "5. unit_price\n",
    "6. unit_count"
   ]
  },
  {
   "cell_type": "code",
   "execution_count": 117,
   "metadata": {},
   "outputs": [],
   "source": [
    "# Assign the columns to a variable\n",
    "columns_drop = ['product_original_price', 'product_url', 'product_photo','coupon_text', 'unit_price', 'unit_count']\n",
    "# drop the columns\n",
    "df_drop = df.drop(columns=columns_drop)"
   ]
  },
  {
   "cell_type": "code",
   "execution_count": 118,
   "metadata": {},
   "outputs": [
    {
     "data": {
      "text/plain": [
       "asin                            0\n",
       "product_title                   0\n",
       "product_price                   6\n",
       "currency                        6\n",
       "product_star_rating            15\n",
       "product_num_ratings             0\n",
       "product_num_offers              0\n",
       "product_minimum_offer_price     6\n",
       "is_best_seller                  0\n",
       "is_amazon_choice                0\n",
       "is_prime                        0\n",
       "climate_pledge_friendly         0\n",
       "sales_volume                   84\n",
       "delivery                        8\n",
       "dtype: int64"
      ]
     },
     "execution_count": 118,
     "metadata": {},
     "output_type": "execute_result"
    }
   ],
   "source": [
    "# Count the number of null vlues again\n",
    "df_drop.isnull().sum()"
   ]
  },
  {
   "cell_type": "markdown",
   "metadata": {},
   "source": [
    "Now that we have removed the columns that we don't need. we can fill out null values for the rest of columns that has null values with 0 value"
   ]
  },
  {
   "cell_type": "code",
   "execution_count": 143,
   "metadata": {},
   "outputs": [
    {
     "data": {
      "text/plain": [
       "asin                           0\n",
       "product_title                  0\n",
       "product_price                  0\n",
       "currency                       0\n",
       "product_star_rating            0\n",
       "product_num_ratings            0\n",
       "product_num_offers             0\n",
       "product_minimum_offer_price    0\n",
       "is_best_seller                 0\n",
       "is_amazon_choice               0\n",
       "is_prime                       0\n",
       "climate_pledge_friendly        0\n",
       "sales_volume                   0\n",
       "delivery                       0\n",
       "dtype: int64"
      ]
     },
     "execution_count": 143,
     "metadata": {},
     "output_type": "execute_result"
    }
   ],
   "source": [
    "# fill the null values with 0 value\n",
    "df_drop.fillna(0, inplace=True)\n",
    "\n",
    "# Count the number of null values again\n",
    "df_drop.isnull().sum()"
   ]
  },
  {
   "cell_type": "code",
   "execution_count": 149,
   "metadata": {},
   "outputs": [],
   "source": [
    "# Save the data into a csv file\n",
    "df_drop.to_csv('Resources/cleaned_data.csv')"
   ]
  }
 ],
 "metadata": {
  "kernelspec": {
   "display_name": "base",
   "language": "python",
   "name": "python3"
  },
  "language_info": {
   "codemirror_mode": {
    "name": "ipython",
    "version": 3
   },
   "file_extension": ".py",
   "mimetype": "text/x-python",
   "name": "python",
   "nbconvert_exporter": "python",
   "pygments_lexer": "ipython3",
   "version": "3.11.5"
  }
 },
 "nbformat": 4,
 "nbformat_minor": 2
}
